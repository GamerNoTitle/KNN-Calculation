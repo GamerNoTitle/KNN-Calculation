{
 "cells": [
  {
   "cell_type": "markdown",
   "metadata": {},
   "source": [
    "导入python库"
   ]
  },
  {
   "cell_type": "code",
   "execution_count": 1,
   "metadata": {},
   "outputs": [],
   "source": [
    "import numpy as np\n",
    "import pandas\n",
    "from sklearn import neighbors\n",
    "from sklearn.model_selection  import train_test_split\n",
    "\n",
    "features = list()  #存放特征\n",
    "labels = list()    #存放分类标签"
   ]
  },
  {
   "cell_type": "markdown",
   "metadata": {},
   "source": [
    "#练习一\n",
    "\n",
    "导入Iris_Data.csv文件,将特征存入列表features"
   ]
  },
  {
   "cell_type": "code",
   "execution_count": 2,
   "metadata": {},
   "outputs": [],
   "source": [
    "csv_data = pandas.read_csv('Iris_Data.csv')\n",
    "\n",
    "#将特征填到features\n",
    "for i in range(csv_data.shape[0]):\n",
    "    tmp = []\n",
    "    for colName in csv_data:\n",
    "        if(colName=='species'):\n",
    "            break\n",
    "        tmp.append(csv_data[colName][i])\n",
    "    features.append(tmp)"
   ]
  },
  {
   "cell_type": "markdown",
   "metadata": {},
   "source": [
    "#练习二\n",
    "\n",
    "将标签存入labels"
   ]
  },
  {
   "cell_type": "code",
   "execution_count": 3,
   "metadata": {},
   "outputs": [],
   "source": [
    "labels = list(csv_data['species'])"
   ]
  },
  {
   "cell_type": "markdown",
   "metadata": {},
   "source": [
    "#练习三\n",
    "\n",
    "分层随机打乱测试集和训练集"
   ]
  },
  {
   "cell_type": "code",
   "execution_count": 4,
   "metadata": {},
   "outputs": [],
   "source": [
    "train_features,test_features,train_labels,test_labels = train_test_split(features,labels,stratify=labels,test_size=0.25)"
   ]
  },
  {
   "cell_type": "markdown",
   "metadata": {},
   "source": [
    "#练习四\n",
    "\n",
    "利用KNN算法对模型进行训练，并算出准确率 \n",
    "提示:  knn = neighbors.KNeighborsClassifier()\n",
    "     knn.fit()\n",
    "     knn.predict()"
   ]
  },
  {
   "cell_type": "code",
   "execution_count": 5,
   "metadata": {},
   "outputs": [
    {
     "name": "stdout",
     "output_type": "stream",
     "text": [
      "0.9473684210526315\n"
     ]
    }
   ],
   "source": [
    "knn = neighbors.KNeighborsClassifier(n_neighbors=5)\n",
    "knn.fit(train_features,train_labels)\n",
    "predicted = knn.predict(test_features)\n",
    "accuracy = np.mean(predicted==test_labels)\n",
    "print(accuracy)"
   ]
  }
 ],
 "metadata": {
  "kernelspec": {
   "display_name": "Python 3",
   "language": "python",
   "name": "python3"
  },
  "language_info": {
   "codemirror_mode": {
    "name": "ipython",
    "version": 3
   },
   "file_extension": ".py",
   "mimetype": "text/x-python",
   "name": "python",
   "nbconvert_exporter": "python",
   "pygments_lexer": "ipython3",
   "version": "3.7.3"
  }
 },
 "nbformat": 4,
 "nbformat_minor": 2
}
