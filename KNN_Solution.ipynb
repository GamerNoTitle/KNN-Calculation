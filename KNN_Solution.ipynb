{
 "cells": [
  {
   "cell_type": "markdown",
   "metadata": {},
   "source": [
    "导入python库"
   ]
  },
  {
   "cell_type": "code",
   "execution_count": 1,
   "metadata": {},
   "outputs": [],
   "source": [
    "import numpy as np\n",
    "import pandas\n",
    "from sklearn import neighbors\n",
    "from sklearn.model_selection  import train_test_split\n",
    "import matplotlib.pyplot as plt\n",
    "\n",
    "features = list()  #存放特征\n",
    "labels = list()    #存放分类标签"
   ]
  },
  {
   "cell_type": "markdown",
   "metadata": {},
   "source": [
    "#练习一\n",
    "\n",
    "导入Iris_Data.csv文件,将特征存入列表features"
   ]
  },
  {
   "cell_type": "code",
   "execution_count": 2,
   "metadata": {},
   "outputs": [],
   "source": [
    "csv_data = pandas.read_csv('Iris_Data.csv')\n",
    "\n",
    "#将特征填到features\n",
    "for i in range(csv_data.shape[0]):\n",
    "    tmp = []\n",
    "    for colName in csv_data:\n",
    "        if(colName=='species'):\n",
    "            break\n",
    "        tmp.append(csv_data[colName][i])\n",
    "    features.append(tmp)"
   ]
  },
  {
   "cell_type": "markdown",
   "metadata": {},
   "source": [
    "#练习二\n",
    "\n",
    "将标签存入labels"
   ]
  },
  {
   "cell_type": "code",
   "execution_count": 3,
   "metadata": {},
   "outputs": [],
   "source": [
    "labels = list(csv_data['species'])"
   ]
  },
  {
   "cell_type": "markdown",
   "metadata": {},
   "source": [
    "#练习三\n",
    "\n",
    "分层随机打乱测试集和训练集"
   ]
  },
  {
   "cell_type": "code",
   "execution_count": 4,
   "metadata": {},
   "outputs": [],
   "source": [
    "train_features,test_features,train_labels,test_labels = train_test_split(features,labels,stratify=labels,test_size=0.25)"
   ]
  },
  {
   "cell_type": "markdown",
   "metadata": {},
   "source": [
    "#练习四\n",
    "\n",
    "利用KNN算法对模型进行训练，并算出准确率 \n",
    "提示:  knn = neighbors.KNeighborsClassifier()\n",
    "     knn.fit()\n",
    "     knn.predict()"
   ]
  },
  {
   "cell_type": "code",
   "execution_count": 5,
   "metadata": {},
   "outputs": [
    {
     "name": "stdout",
     "output_type": "stream",
     "text": [
      "0.9736842105263158\n"
     ]
    }
   ],
   "source": [
    "knn = neighbors.KNeighborsClassifier(n_neighbors=5)\n",
    "knn.fit(train_features,train_labels)\n",
    "predicted = knn.predict(test_features)\n",
    "accuracy = np.mean(predicted==test_labels)\n",
    "print(accuracy)"
   ]
  },
  {
   "cell_type": "markdown",
   "metadata": {},
   "source": [
    "#练习五\n",
    "\n",
    "设置K值分别为1-20进行训练,算出准确率 使用matplotlib.pyplot进行画图,横坐标为K,纵坐标为准确率(注意横坐标刻度)"
   ]
  },
  {
   "cell_type": "code",
   "execution_count": 6,
   "metadata": {},
   "outputs": [
    {
     "data": {
      "image/png": "[encoded data removed]",
      "text/plain": [
       "<Figure size 432x288 with 1 Axes>"
      ]
     },
     "metadata": {
      "needs_background": "light"
     },
     "output_type": "display_data"
    }
   ],
   "source": [
    "#拟合模型并测试\n",
    "x = list()\n",
    "y = list()\n",
    "for i in range(1,21):\n",
    "    knn = neighbors.KNeighborsClassifier(n_neighbors=i)\n",
    "    knn.fit(train_features,train_labels)\n",
    "    predicted = knn.predict(test_features)\n",
    "    accuracy = np.mean(predicted==test_labels)\n",
    "    x.append(i)\n",
    "    y.append(accuracy)\n",
    "#画折线图\n",
    "plt.plot(x,y)\n",
    "plt.xlabel('K')\n",
    "plt.ylabel('accuracy')\n",
    "plt.xticks(x)\n",
    "plt.show()"
   ]
  }
 ],
 "metadata": {
  "kernelspec": {
   "display_name": "Python 3",
   "language": "python",
   "name": "python3"
  },
  "language_info": {
   "codemirror_mode": {
    "name": "ipython",
    "version": 3
   },
   "file_extension": ".py",
   "mimetype": "text/x-python",
   "name": "python",
   "nbconvert_exporter": "python",
   "pygments_lexer": "ipython3",
   "version": "3.7.3"
  }
 },
 "nbformat": 4,
 "nbformat_minor": 2
}
