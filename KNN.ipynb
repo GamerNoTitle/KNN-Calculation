{
 "cells": [
  {
   "cell_type": "markdown",
   "metadata": {},
   "source": [
    "导入python库"
   ]
  },
  {
   "cell_type": "code",
   "execution_count": 7,
   "metadata": {},
   "outputs": [],
   "source": [
    "import numpy as np\n",
    "import pandas\n",
    "from sklearn import neighbors\n",
    "from sklearn.model_selection  import train_test_split\n",
    "\n",
    "features = list()  #存放特征\n",
    "labels = list()    #存放分类标签"
   ]
  },
  {
   "cell_type": "markdown",
   "metadata": {},
   "source": [
    "#练习一\n",
    "\n",
    "导入Iris_Data.csv文件,将特征存入列表features"
   ]
  },
  {
   "cell_type": "code",
   "execution_count": 8,
   "metadata": {},
   "outputs": [],
   "source": [
    "data=pd.read_csv('.\\Iris_Data.csv')\n",
    "ln=data.shape[0]\n",
    "data_list=[]\n",
    "for i in range(ln):\n",
    "    temp=[]\n",
    "    for n in data:\n",
    "        if n == 'species':\n",
    "            break\n",
    "        a=data.loc[i,n]\n",
    "        temp.append(a)\n",
    "    data_list.append(temp)\n",
    "    #print(temp)"
   ]
  },
  {
   "cell_type": "markdown",
   "metadata": {},
   "source": [
    "#练习二\n",
    "\n",
    "将标签存入labels"
   ]
  },
  {
   "cell_type": "code",
   "execution_count": 9,
   "metadata": {},
   "outputs": [],
   "source": [
    "label=[]\n",
    "for i in range(ln):\n",
    "    for n in data:\n",
    "        if n == 'species':\n",
    "            label.append(data.loc[i,n])\n",
    "            break"
   ]
  },
  {
   "cell_type": "markdown",
   "metadata": {},
   "source": [
    "#练习三\n",
    "\n",
    "分层随机打乱测试集和训练集"
   ]
  },
  {
   "cell_type": "code",
   "execution_count": 10,
   "metadata": {},
   "outputs": [],
   "source": [
    "feature_train,feature_test,label_train,label_test=train_test_split(data_list,label,test_size=0.3,shuffle='species')\n",
    "#print(feature_train)\n",
    "#print(feature_test)\n",
    "#print(label_train)\n",
    "#print(label_test)"
   ]
  },
  {
   "cell_type": "markdown",
   "metadata": {},
   "source": [
    "#练习四\n",
    "\n",
    "利用KNN算法对模型进行训练，并算出准确率 \n",
    "提示:  knn = neighbors.KNeighborsClassifier()\n",
    "     knn.fit()\n",
    "     knn.predict()"
   ]
  },
  {
   "cell_type": "code",
   "execution_count": 11,
   "metadata": {},
   "outputs": [
    {
     "data": {
      "text/plain": [
       "0.9555555555555556"
      ]
     },
     "execution_count": 11,
     "metadata": {},
     "output_type": "execute_result"
    }
   ],
   "source": [
    "knn = neighbors.KNeighborsClassifier() \n",
    "knn.fit(feature_train,label_train) \n",
    "result=knn.predict(feature_test)\n",
    "np.mean(result==label_test)"
   ]
  },
  {
   "cell_type": "markdown",
   "metadata": {},
   "source": [
    "#练习五\n",
    "\n",
    "设置K值分别为1-20进行训练,算出准确率\n",
    "使用matplotlib.pyplot进行画图,横坐标为K,纵坐标为准确率(注意横坐标刻度)"
   ]
  },
  {
   "cell_type": "code",
   "execution_count": 14,
   "metadata": {},
   "outputs": [
    {
     "data": {
      "image/png": "[encoded data removed]",
      "text/plain": [
       "<Figure size 432x288 with 1 Axes>"
      ]
     },
     "metadata": {
      "needs_background": "light"
     },
     "output_type": "display_data"
    }
   ],
   "source": [
    "from matplotlib import pyplot as plt\n",
    "%matplotlib inline\n",
    "x=list()\n",
    "y=list()\n",
    "for i in range(1,21):\n",
    "    knn = neighbors.KNeighborsClassifier(i) \n",
    "    knn.fit(feature_train,label_train) \n",
    "    result=knn.predict(feature_test)\n",
    "    acc=np.mean(result==label_test)\n",
    "    x.append(i)\n",
    "    y.append(acc)\n",
    "plt.plot(x,y,color='c',alpha=0.5)\n",
    "plt.xlabel('K')\n",
    "plt.ylabel('acc')\n",
    "plt.xticks(x)\n",
    "plt.show()"
   ]
  },
  {
   "cell_type": "code",
   "execution_count": null,
   "metadata": {},
   "outputs": [],
   "source": []
  }
 ],
 "metadata": {
  "kernelspec": {
   "display_name": "Python 3",
   "language": "python",
   "name": "python3"
  },
  "language_info": {
   "codemirror_mode": {
    "name": "ipython",
    "version": 3
   },
   "file_extension": ".py",
   "mimetype": "text/x-python",
   "name": "python",
   "nbconvert_exporter": "python",
   "pygments_lexer": "ipython3",
   "version": "3.7.3"
  }
 },
 "nbformat": 4,
 "nbformat_minor": 2
}
